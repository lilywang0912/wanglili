{
  "nbformat": 4,
  "nbformat_minor": 0,
  "metadata": {
    "colab": {
      "provenance": [],
      "authorship_tag": "ABX9TyNMO+c0L9vDTtUmnKg+MjS1",
      "include_colab_link": true
    },
    "kernelspec": {
      "name": "python3",
      "display_name": "Python 3"
    },
    "language_info": {
      "name": "python"
    }
  },
  "cells": [
    {
      "cell_type": "markdown",
      "metadata": {
        "id": "view-in-github",
        "colab_type": "text"
      },
      "source": [
        "<a href=\"https://colab.research.google.com/github/lilywang0912/wanglili/blob/master/%E3%80%8C%E3%80%8CUntitled3_ipynb%E3%80%8D%E7%9A%84%E5%89%AF%E6%9C%AC%E3%80%8D%E7%9A%84%E5%89%AF%E6%9C%AC.ipynb\" target=\"_parent\"><img src=\"https://colab.research.google.com/assets/colab-badge.svg\" alt=\"Open In Colab\"/></a>"
      ]
    },
    {
      "cell_type": "code",
      "execution_count": null,
      "metadata": {
        "id": "vpYUBmuNbocI"
      },
      "outputs": [],
      "source": []
    },
    {
      "cell_type": "markdown",
      "source": [],
      "metadata": {
        "id": "L4HEjsU9lmnz"
      }
    },
    {
      "cell_type": "markdown",
      "source": [
        "latex math\n",
        "\n",
        "$ \\frac(1)(2) \\sum_(i=1)^n (x - \\mu)^2 $\n"
      ],
      "metadata": {
        "id": "X8QqMZpBfYKy"
      }
    },
    {
      "cell_type": "markdown",
      "source": [
        "JOSN格式：\n",
        "\n",
        "\n",
        "1.   list型態(同類型的集合)：[60, 30, 20]\n",
        "2.   dict型態(聚集表示複雜型態--的型態)：{\"姓名\":\"Elwing\",\"身高\":\"175\"}\n",
        "key-value\n",
        "1. list: key1(0,1,2) key2(-3, -2 -1)\n",
        "2. dict: key自定義(數字/字串/turple)\n",
        "\n",
        "key-value最重要的操作(查詢)： 要查的東西[key]\n",
        "list[0]/dict[\"姓名\"]"
      ],
      "metadata": {
        "id": "UL8V6RspltyX"
      }
    },
    {
      "cell_type": "code",
      "source": [
        "import json\n",
        "import urllib.request as req\n",
        "import pandas as pd\n",
        "url = \"https://www.google.com/doodles/json/2022/11?h1=zh-TW\"\n",
        "response = req.urlopen(url)\n",
        "\n",
        "## response ->檔案型態(支援.read())\n",
        "## json.load(檔案) ->list/dict型態\n",
        "data_json = json.load(response)\n",
        "\n",
        "## pd.DataFrame(表格型態)\n",
        "data_table = pd.json_normalize(data_json)\n",
        "## 如果你要存檔\n",
        "data_table.to_csv(\"doodle.csv\",encoding=\"utf-8\")"
      ],
      "metadata": {
        "id": "cmkJ3VM2syJM"
      },
      "execution_count": 9,
      "outputs": []
    },
    {
      "cell_type": "markdown",
      "source": [],
      "metadata": {
        "id": "jGdWu_FxlovV"
      }
    }
  ]
}